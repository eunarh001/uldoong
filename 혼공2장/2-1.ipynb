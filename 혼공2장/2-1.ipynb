{
 "cells": [
  {
   "cell_type": "markdown",
   "metadata": {},
   "source": [
    "# 훈련 세트와 테스트 세트"
   ]
  },
  {
   "cell_type": "markdown",
   "metadata": {},
   "source": [
    "<table align=\"left\">\n",
    "  <td>\n",
    "    <a target=\"_blank\" href=\"https://colab.research.google.com/github/rickiepark/hg-mldl/blob/master/2-1.ipynb\"><img src=\"https://www.tensorflow.org/images/colab_logo_32px.png\" />구글 코랩에서 실행하기</a>\n",
    "  </td>\n",
    "</table>"
   ]
  },
  {
   "cell_type": "markdown",
   "metadata": {},
   "source": [
    "## 훈련 세트와 테스트 세트"
   ]
  },
  {
   "cell_type": "code",
   "execution_count": 1,
   "metadata": {
    "colab": {},
    "colab_type": "code",
    "id": "N1oAXHg2Y6DJ"
   },
   "outputs": [],
   "source": [
    "# 물고기의 길이 리스트\n",
    "# 리스트이름 = [리스트인덱스0, 리스트인덱스1....]\n",
    "물고기길이 = [25.4, 26.3, 26.5, 29.0, 29.0, 29.7, 29.7, 30.0, 30.0, 30.7, 31.0, 31.0, \n",
    "                31.5, 32.0, 32.0, 32.0, 33.0, 33.0, 33.5, 33.5, 34.0, 34.0, 34.5, 35.0, \n",
    "                35.0, 35.0, 35.0, 36.0, 36.0, 37.0, 38.5, 38.5, 39.5, 41.0, 41.0, 9.8, \n",
    "                10.5, 10.6, 11.0, 11.2, 11.3, 11.8, 11.8, 12.0, 12.2, 12.4, 13.0, 14.3, 15.0]\n",
    "\n",
    "# 물고기의 무게 리스트\n",
    "물고기무게 = [242.0, 290.0, 340.0, 363.0, 430.0, 450.0, 500.0, 390.0, 450.0, 500.0, 475.0, 500.0, \n",
    "                500.0, 340.0, 600.0, 600.0, 700.0, 700.0, 610.0, 650.0, 575.0, 685.0, 620.0, 680.0, \n",
    "                700.0, 725.0, 720.0, 714.0, 850.0, 1000.0, 920.0, 955.0, 925.0, 975.0, 950.0, 6.7, \n",
    "                7.5, 7.0, 9.7, 9.8, 8.7, 10.0, 9.9, 9.8, 12.2, 13.4, 12.2, 19.7, 19.9]"
   ]
  },
  {
   "cell_type": "code",
   "execution_count": 2,
   "metadata": {
    "colab": {},
    "colab_type": "code",
    "id": "4mQxk1Vx7dL5"
   },
   "outputs": [
    {
     "data": {
      "text/plain": [
       "'\\n#같은 뜻의 코드 풀어 써보기\\n물고기들 = []\\nfor l in range(len(물고기길이)):\\n    물고기들.append([물고기길이[l], 물고기무게[l]])\\n# 전자는 리스트 먼저 만든 후 이름을 주고, 후자는 이름 먼저 주고 리스트를 채우는 차이가 생기는 것 같습니다... 음... 아닐까요?ㅋ\\n'"
      ]
     },
     "execution_count": 2,
     "metadata": {},
     "output_type": "execute_result"
    }
   ],
   "source": [
    "# 물고기 길이 하나와 물고기 무게 하나씩을 짝지어서 새로운 리스트를 만들고, 물고기자료라는 리스트 안에 넣어주기.\n",
    "# zip() 은 동일한 개수로 이루어진 자료형을 묶어 주는 역할\n",
    "# 집을 이용해 묶은 자료들이 lw인데 얘네가 포문 밖으로 나오면 []안으로 들어가고,\n",
    "# 포문 밖에도 []가 있으니 포문을 이용해서 나온 리스트들이 전부 하나의 리스트가 됨.\n",
    "# 만들어준 하나의 리스트가 fish_data라는 이름을 얻음.\n",
    "물고기자료 = [[l, w] for l, w in zip(물고기길이, 물고기무게)]\n",
    "\"\"\"\n",
    "#같은 뜻의 코드 풀어 써보기\n",
    "물고기들 = []\n",
    "for l in range(len(물고기길이)):\n",
    "    물고기들.append([물고기길이[l], 물고기무게[l]])\n",
    "# 전자는 리스트 먼저 만든 후 이름을 주고, 후자는 이름 먼저 주고 리스트를 채우는 차이가 생기는 것 같습니다... 음... 아닐까요?ㅋ\n",
    "\"\"\"\n"
   ]
  },
  {
   "cell_type": "code",
   "execution_count": 3,
   "metadata": {},
   "outputs": [],
   "source": [
    "\n",
    "물고기종류 = [1]*35 + [0]*14\n",
    "# 물고기종류라는 이름의 리스트를 만들었는데, 그 안에는 인덱스 0부터 34까지 1이고, 인덱스 35부터 48까지 0이다.\n",
    "# 물고기종류 = [1,1,1,1,1 .... 0,0,0]\n",
    "# 도미가 35마리이고, 빙어가 14마리이기 때문에 저렇게 했나?\n",
    "# 그럼 앞에 35마리는 도미고, 뒤에 14마리는 빙어인가보다.\n"
   ]
  },
  {
   "cell_type": "code",
   "execution_count": 4,
   "metadata": {
    "colab": {},
    "colab_type": "code",
    "id": "URr_0wBTYsZV"
   },
   "outputs": [],
   "source": [
    "from sklearn.neighbors import KNeighborsClassifier\n",
    "# 사이킷런에서 k최근접이웃 알고리즘을 구현한 클래스 KNeighborsClassifier를 불러온다.\n",
    "# import는 파이썬 내장된 기능이 아닌 다른 기능을 설치했을 때 그 기능을 불러오기 위해 사용된다.\n",
    "# 위의 코드에서 프롬을 제외하면 아래와 같은 오류가 뜬다.\n",
    "\"\"\"\n",
    "---------------------------------------------------------------------------\n",
    "ModuleNotFoundError                       Traceback (most recent call last)\n",
    "~\\AppData\\Local\\Temp/ipykernel_7700/1463516309.py in <module>\n",
    "----> 1 import KNeighborsClassifier\n",
    "\n",
    "ModuleNotFoundError: No module named 'KNeighborsClassifier'\n",
    "\"\"\"\n",
    "# from을 통해서 이놈이 어디있는 놈인지를 알려줘야 찾을 수 있다.\n",
    "# 아래는 사이킷런만 임포트 했을 때 나타나는 오류.\n",
    "\"\"\"\n",
    "---------------------------------------------------------------------------\n",
    "NameError                                 Traceback (most recent call last)\n",
    "~\\AppData\\Local\\Temp/ipykernel_11224/3660167133.py in <module>\n",
    "----> 1 kn = KNeighborsClassifier()\n",
    "\n",
    "NameError: name 'KNeighborsClassifier' is not defined\n",
    "\"\"\"\n",
    "\n",
    "모델 = KNeighborsClassifier()\n",
    "# KNeighborsClassifier클래스의 객체를 모델이라고 이름을 붙여 만들어준다.\n",
    "# 이건 이제 모델이다."
   ]
  },
  {
   "cell_type": "code",
   "execution_count": 5,
   "metadata": {
    "colab": {
     "base_uri": "https://localhost:8080/",
     "height": 35
    },
    "colab_type": "code",
    "executionInfo": {
     "elapsed": 2364,
     "status": "ok",
     "timestamp": 1586625404949,
     "user": {
      "displayName": "Haesun Park",
      "photoUrl": "https://lh3.googleusercontent.com/a-/AOh14GhsWlS7sKQL-9fIkg3FmxpTMz_u-KDSs8y__P1ngQ=s64",
      "userId": "14935388527648823821"
     },
     "user_tz": -540
    },
    "id": "H74k3aZQ9hnr",
    "outputId": "88179f20-110e-4d35-822c-ef9da85a5721"
   },
   "outputs": [
    {
     "name": "stdout",
     "output_type": "stream",
     "text": [
      "[29.0, 430.0]\n"
     ]
    }
   ],
   "source": [
    "print(물고기자료[4])\n",
    "# fish_data리스트의 5째 요소인 4번 인덱스를 출력."
   ]
  },
  {
   "cell_type": "code",
   "execution_count": 6,
   "metadata": {
    "colab": {
     "base_uri": "https://localhost:8080/",
     "height": 35
    },
    "colab_type": "code",
    "executionInfo": {
     "elapsed": 2359,
     "status": "ok",
     "timestamp": 1586625404949,
     "user": {
      "displayName": "Haesun Park",
      "photoUrl": "https://lh3.googleusercontent.com/a-/AOh14GhsWlS7sKQL-9fIkg3FmxpTMz_u-KDSs8y__P1ngQ=s64",
      "userId": "14935388527648823821"
     },
     "user_tz": -540
    },
    "id": "6tYXuRGA_4mk",
    "outputId": "9355e8f3-f269-427b-df5f-16af3c812215"
   },
   "outputs": [
    {
     "name": "stdout",
     "output_type": "stream",
     "text": [
      "[[25.4, 242.0], [26.3, 290.0], [26.5, 340.0], [29.0, 363.0], [29.0, 430.0]]\n"
     ]
    }
   ],
   "source": [
    "print(물고기자료[0:5])\n",
    "# 슬라이싱을 이용하여 0번 인덱스 이상 5번 인덱스 미만 출력"
   ]
  },
  {
   "cell_type": "code",
   "execution_count": 7,
   "metadata": {
    "colab": {
     "base_uri": "https://localhost:8080/",
     "height": 35
    },
    "colab_type": "code",
    "executionInfo": {
     "elapsed": 2354,
     "status": "ok",
     "timestamp": 1586625404950,
     "user": {
      "displayName": "Haesun Park",
      "photoUrl": "https://lh3.googleusercontent.com/a-/AOh14GhsWlS7sKQL-9fIkg3FmxpTMz_u-KDSs8y__P1ngQ=s64",
      "userId": "14935388527648823821"
     },
     "user_tz": -540
    },
    "id": "IFesPu-oB41B",
    "outputId": "31e90f25-a115-4ad0-aeda-fb4b5c148883"
   },
   "outputs": [
    {
     "name": "stdout",
     "output_type": "stream",
     "text": [
      "[[25.4, 242.0], [26.3, 290.0], [26.5, 340.0], [29.0, 363.0], [29.0, 430.0]]\n"
     ]
    }
   ],
   "source": [
    "print(물고기자료[:5])\n",
    "# 슬라이싱을 이용하여 0번 인덱스 이상 5번 인덱스 미만 출력 할 때 처음부터 출력하므로 0을 생략하고 적을 수 있다."
   ]
  },
  {
   "cell_type": "code",
   "execution_count": 8,
   "metadata": {
    "colab": {
     "base_uri": "https://localhost:8080/",
     "height": 35
    },
    "colab_type": "code",
    "executionInfo": {
     "elapsed": 2347,
     "status": "ok",
     "timestamp": 1586625404950,
     "user": {
      "displayName": "Haesun Park",
      "photoUrl": "https://lh3.googleusercontent.com/a-/AOh14GhsWlS7sKQL-9fIkg3FmxpTMz_u-KDSs8y__P1ngQ=s64",
      "userId": "14935388527648823821"
     },
     "user_tz": -540
    },
    "id": "GSbt5e9ICUKc",
    "outputId": "6c719f6a-34f0-443b-c6e7-7f5ebbcac8f4"
   },
   "outputs": [
    {
     "name": "stdout",
     "output_type": "stream",
     "text": [
      "[[12.2, 12.2], [12.4, 13.4], [13.0, 12.2], [14.3, 19.7], [15.0, 19.9]]\n"
     ]
    }
   ],
   "source": [
    "print(물고기자료[44:])\n",
    "# 반대로 44이상 끝까지. 이건 44:48이 아니라 44:49랑 같다."
   ]
  },
  {
   "cell_type": "code",
   "execution_count": 9,
   "metadata": {},
   "outputs": [
    {
     "data": {
      "text/plain": [
       "'\\nprint(물고기자료[44:-1])\\n# 이건 44부터 끝 미만이라고 봐야함. 그래서 마지막 요소를 출력하지 않음.\\n'"
      ]
     },
     "execution_count": 9,
     "metadata": {},
     "output_type": "execute_result"
    }
   ],
   "source": [
    "\"\"\"\n",
    "print(물고기자료[44:-1])\n",
    "# 이건 44부터 끝 미만이라고 봐야함. 그래서 마지막 요소를 출력하지 않음.\n",
    "\"\"\""
   ]
  },
  {
   "cell_type": "code",
   "execution_count": 10,
   "metadata": {
    "colab": {},
    "colab_type": "code",
    "id": "MqSRWFtpDESU"
   },
   "outputs": [],
   "source": [
    "train_input = 물고기자료[:35]\n",
    "# 훈련 입력 = 인덱스 34까지(35미만)\n",
    "train_target = 물고기종류[:35]\n",
    "# 훈련 타겟 = 인덱스 34까지(35미만)\n",
    "\n",
    "test_input = 물고기자료[35:]\n",
    "# 시험 입력 = 인덱스 35부터 끝까지\n",
    "test_target = 물고기종류[35:]\n",
    "# 시험 타겟 = 인덱스 35부터 끝까지\n",
    "\n",
    "# 테스트와 트레인 데이터를 단순히 인덱스로 구분해서 넣었다... 그런데 그게 마침 도미와 빙어로 나눈거나 마찬가지가 됐다."
   ]
  },
  {
   "cell_type": "code",
   "execution_count": 11,
   "metadata": {
    "colab": {
     "base_uri": "https://localhost:8080/",
     "height": 35
    },
    "colab_type": "code",
    "executionInfo": {
     "elapsed": 2341,
     "status": "ok",
     "timestamp": 1586625404951,
     "user": {
      "displayName": "Haesun Park",
      "photoUrl": "https://lh3.googleusercontent.com/a-/AOh14GhsWlS7sKQL-9fIkg3FmxpTMz_u-KDSs8y__P1ngQ=s64",
      "userId": "14935388527648823821"
     },
     "user_tz": -540
    },
    "id": "FxiunutA8yMQ",
    "outputId": "af43114b-4b8d-4f36-a634-efdb9cc5bce6"
   },
   "outputs": [
    {
     "data": {
      "text/plain": [
       "0.0"
      ]
     },
     "execution_count": 11,
     "metadata": {},
     "output_type": "execute_result"
    }
   ],
   "source": [
    "모델 = 모델.fit(train_input, train_target)\n",
    "# k최근접이웃 알고리즘 클래스를 이용해 만들어진 객체인 모델에\n",
    "# train_input과 train_target를 훈련 데이터셋으로 집어넣고\n",
    "# fit 메소드를 이용해 훈련시켰다.\n",
    "# fit 메소드는 사이킷런에서의 훈련을 실행하는 메소드.\n",
    "\n",
    "모델.score(test_input, test_target)\n",
    "# score메소드에 테스트셋인 test_input, test_target를 집어넣음. \n",
    "# 스코어는 사이킷런에서 학습시킨 모델의 성능을 평가하는 메서드\n",
    "# 출력이 1에 가까울수록 학습이 잘 된것.\n",
    "# 출력이 0에 가까울수록 학습이 망한 것.\n"
   ]
  },
  {
   "cell_type": "markdown",
   "metadata": {},
   "source": [
    "## 넘파이"
   ]
  },
  {
   "cell_type": "code",
   "execution_count": 12,
   "metadata": {
    "colab": {},
    "colab_type": "code",
    "id": "kdoec4RBcrZU"
   },
   "outputs": [],
   "source": [
    "import numpy as 넘\n",
    "# 넘파이를 임포트 하는데 넘이라고 부를게요.\n",
    "# 넘파이는 파이썬에서 자주 쓰게 될 배열을 다루는 라이브러리.\n",
    "# 고차원의 배열을 손쉽게 만들고 조작할 수 있다고 한다."
   ]
  },
  {
   "cell_type": "code",
   "execution_count": 13,
   "metadata": {
    "colab": {},
    "colab_type": "code",
    "id": "j_NMsjZweD3b"
   },
   "outputs": [],
   "source": [
    "자료배열 = 넘.array(물고기자료)\n",
    "# 물고기자료리스트를 array를 이용해 넘파이 배열로 바꿈.\n",
    "# 배열로 바뀐 물고기자료를 자료배열이라고 하겠음.\n",
    "\n",
    "종류배열 = 넘.array(물고기종류)\n",
    "# 종류배열은 물고기종류를 배열로 바꾼것임."
   ]
  },
  {
   "cell_type": "code",
   "execution_count": 14,
   "metadata": {
    "colab": {
     "base_uri": "https://localhost:8080/",
     "height": 864
    },
    "colab_type": "code",
    "executionInfo": {
     "elapsed": 2333,
     "status": "ok",
     "timestamp": 1586625404952,
     "user": {
      "displayName": "Haesun Park",
      "photoUrl": "https://lh3.googleusercontent.com/a-/AOh14GhsWlS7sKQL-9fIkg3FmxpTMz_u-KDSs8y__P1ngQ=s64",
      "userId": "14935388527648823821"
     },
     "user_tz": -540
    },
    "id": "H8t38rejifbv",
    "outputId": "64fa0879-189a-41bd-a05a-3d0dad75779e"
   },
   "outputs": [
    {
     "name": "stdout",
     "output_type": "stream",
     "text": [
      "[[  25.4  242. ]\n",
      " [  26.3  290. ]\n",
      " [  26.5  340. ]\n",
      " [  29.   363. ]\n",
      " [  29.   430. ]\n",
      " [  29.7  450. ]\n",
      " [  29.7  500. ]\n",
      " [  30.   390. ]\n",
      " [  30.   450. ]\n",
      " [  30.7  500. ]\n",
      " [  31.   475. ]\n",
      " [  31.   500. ]\n",
      " [  31.5  500. ]\n",
      " [  32.   340. ]\n",
      " [  32.   600. ]\n",
      " [  32.   600. ]\n",
      " [  33.   700. ]\n",
      " [  33.   700. ]\n",
      " [  33.5  610. ]\n",
      " [  33.5  650. ]\n",
      " [  34.   575. ]\n",
      " [  34.   685. ]\n",
      " [  34.5  620. ]\n",
      " [  35.   680. ]\n",
      " [  35.   700. ]\n",
      " [  35.   725. ]\n",
      " [  35.   720. ]\n",
      " [  36.   714. ]\n",
      " [  36.   850. ]\n",
      " [  37.  1000. ]\n",
      " [  38.5  920. ]\n",
      " [  38.5  955. ]\n",
      " [  39.5  925. ]\n",
      " [  41.   975. ]\n",
      " [  41.   950. ]\n",
      " [   9.8    6.7]\n",
      " [  10.5    7.5]\n",
      " [  10.6    7. ]\n",
      " [  11.     9.7]\n",
      " [  11.2    9.8]\n",
      " [  11.3    8.7]\n",
      " [  11.8   10. ]\n",
      " [  11.8    9.9]\n",
      " [  12.     9.8]\n",
      " [  12.2   12.2]\n",
      " [  12.4   13.4]\n",
      " [  13.    12.2]\n",
      " [  14.3   19.7]\n",
      " [  15.    19.9]]\n"
     ]
    }
   ],
   "source": [
    "print(자료배열)\n",
    "# [] 안에 쉼표가 없어졌다!"
   ]
  },
  {
   "cell_type": "code",
   "execution_count": 16,
   "metadata": {
    "colab": {
     "base_uri": "https://localhost:8080/",
     "height": 35
    },
    "colab_type": "code",
    "executionInfo": {
     "elapsed": 2328,
     "status": "ok",
     "timestamp": 1586625404952,
     "user": {
      "displayName": "Haesun Park",
      "photoUrl": "https://lh3.googleusercontent.com/a-/AOh14GhsWlS7sKQL-9fIkg3FmxpTMz_u-KDSs8y__P1ngQ=s64",
      "userId": "14935388527648823821"
     },
     "user_tz": -540
    },
    "id": "cPMqX_1qluYe",
    "outputId": "842c81b3-3751-45db-a6f4-a70bb3070931"
   },
   "outputs": [
    {
     "name": "stdout",
     "output_type": "stream",
     "text": [
      "(49, 2)\n"
     ]
    }
   ],
   "source": [
    "print(자료배열.shape)\n",
    "# 자료배열의 모양을 인쇄해줘.\n",
    "# 출력되는 숫자의 갯수가 배열의 총 차원수\n",
    "# (49, 2)는 숫자의 개수가 두개이니 2차원 배열\n",
    "# 첫번째 숫자는 배열에서 가장 바깥의 [] 바로 안쪽의 요소 수.\n",
    "# 두번째 숫자는 두번째 []의 안쪽의 요소수. 즉 [[이 위치에 있는 요소의 수],[이 위치에 있는 요소의 수],[이 위치에 있는 요소의 수]]\n",
    "# 세번째도 마찬가지.\n",
    "# 즉 가장 마지막 숫자가 가장 안쪽의 요소수"
   ]
  },
  {
   "cell_type": "code",
   "execution_count": 17,
   "metadata": {},
   "outputs": [
    {
     "data": {
      "text/plain": [
       "'\\n# 궁금해서 해본것\\n\\na = np.array([[[[4,1],[4,1],[4,1],[4,1]],[[4,1],[4,1],[4,1],[4,1]],[[4,1],[4,1],[4,1],[4,1]]],[[[4,1],[4,1],[4,1],[4,1]],[[4,1],[4,1],[4,1],[4,1]],[[4,1],[4,1],[4,1],[4,1]]]])\\nprint(a)\\nprint(a.shape)\\n'"
      ]
     },
     "execution_count": 17,
     "metadata": {},
     "output_type": "execute_result"
    }
   ],
   "source": [
    "\"\"\"\n",
    "# 궁금해서 해본것\n",
    "\n",
    "a = np.array([[[[4,1],[4,1],[4,1],[4,1]],[[4,1],[4,1],[4,1],[4,1]],[[4,1],[4,1],[4,1],[4,1]]],[[[4,1],[4,1],[4,1],[4,1]],[[4,1],[4,1],[4,1],[4,1]],[[4,1],[4,1],[4,1],[4,1]]]])\n",
    "print(a)\n",
    "print(a.shape)\n",
    "\"\"\""
   ]
  },
  {
   "cell_type": "code",
   "execution_count": 18,
   "metadata": {
    "colab": {},
    "colab_type": "code",
    "id": "8ZKi6avTeKaB"
   },
   "outputs": [],
   "source": [
    "넘.random.seed(42)\n",
    "# random.seed는 랜덤의 숫자가 출력될 때 다음번에도 지금과 똑같은 숫자들이 나오도록 하는 것.\n",
    "# 매번 결과가 다르면 곤란할 수가 있으니까.\n",
    "# 어제도 오늘도 내일도 다른 사람이 돌려도, 똑같은 코드에서 똑같은 결과가 나올 수 있도록.\n",
    "\n",
    "index = 넘.arange(49)\n",
    "# numpy.arange([start, ] stop, [step, ] dtype=None)\n",
    "# numpy 모듈의 arange 함수는 반열린구간 [start, stop) 에서 step 의 크기만큼 일정하게 떨어져 있는 숫자들을 array 형태로 반환해 주는 함수다.\n",
    "# stop 매개변수의 값은 반드시 전달되어야 하지만 start 는 step 은 꼭 전달되지 않아도 된다. \n",
    "# start 값이 전달되지 않았다면 0 을 기본값으로 가지며, step 값이 전달되지 않았다면 1 값을 기본값으로 갖게 된다.\n",
    "\n",
    "# 인덱스느 0~48의 배열\n",
    "# 인덱스라고 이름 붙인 배열을 섞는다.\n",
    "# 이건 랜덤시드에 의해 시드 안의 수가 42면 항상 같은 결과가 나올 것임.\n",
    "# 즉 랜덤시드에 의한 숫자 발생은 실제로는 랜덤이 아니라고 한다.\n",
    "넘.random.shuffle(index)\n",
    "# numpy.random.shuffle( x ) \n",
    "# 내용을 섞어서 시퀀스를 제자리에서 수정합니다.\n",
    "# 이 함수는 다차원 배열의 첫 번째 축을 따라 배열만 섞습니다. 하위 배열의 순서는 변경되지만 내용은 동일하게 유지됩니다."
   ]
  },
  {
   "cell_type": "code",
   "execution_count": 19,
   "metadata": {
    "colab": {
     "base_uri": "https://localhost:8080/",
     "height": 69
    },
    "colab_type": "code",
    "executionInfo": {
     "elapsed": 2322,
     "status": "ok",
     "timestamp": 1586625404953,
     "user": {
      "displayName": "Haesun Park",
      "photoUrl": "https://lh3.googleusercontent.com/a-/AOh14GhsWlS7sKQL-9fIkg3FmxpTMz_u-KDSs8y__P1ngQ=s64",
      "userId": "14935388527648823821"
     },
     "user_tz": -540
    },
    "id": "Ndz46Y7aoS9h",
    "outputId": "cdccad16-3e85-43ee-aad1-151e7a2b90c2"
   },
   "outputs": [
    {
     "name": "stdout",
     "output_type": "stream",
     "text": [
      "[13 45 47 44 17 27 26 25 31 19 12  4 34  8  3  6 40 41 46 15  9 16 24 33\n",
      " 30  0 43 32  5 29 11 36  1 21  2 37 35 23 39 10 22 18 48 20  7 42 14 28\n",
      " 38]\n"
     ]
    }
   ],
   "source": [
    "print(index)\n",
    "# 다 섞인 인덱스를 출력해보니..."
   ]
  },
  {
   "cell_type": "code",
   "execution_count": 20,
   "metadata": {
    "colab": {
     "base_uri": "https://localhost:8080/",
     "height": 52
    },
    "colab_type": "code",
    "executionInfo": {
     "elapsed": 2318,
     "status": "ok",
     "timestamp": 1586625404954,
     "user": {
      "displayName": "Haesun Park",
      "photoUrl": "https://lh3.googleusercontent.com/a-/AOh14GhsWlS7sKQL-9fIkg3FmxpTMz_u-KDSs8y__P1ngQ=s64",
      "userId": "14935388527648823821"
     },
     "user_tz": -540
    },
    "id": "m_OYZlI1yicM",
    "outputId": "77146b38-052f-4771-d792-e7ed865397c0"
   },
   "outputs": [
    {
     "name": "stdout",
     "output_type": "stream",
     "text": [
      "[[ 26.3 290. ]\n",
      " [ 29.  363. ]]\n"
     ]
    }
   ],
   "source": [
    "print(자료배열[[1,3]])\n",
    "# 자료배열의 인덱스 1과 3을 출력해봤다.\n",
    "# 넘파이는 배열 인덱싱으로 저렇게 여러 인덱스를 선택해서 출력할 수 있다.\n",
    "# https://numpy.org/doc/stable/user/basics.indexing.html?highlight=indexing\n",
    "# 넘파이 인덱싱 설명서\n",
    "\n",
    "# 배열 인덱싱에서 리스트를 인덱스로 준 것처럼\n",
    "# 배열 인덱싱에 배열을 인덱스로 줄수도 있다.\n",
    "# 앞으로 이걸 응용할거임."
   ]
  },
  {
   "cell_type": "code",
   "execution_count": 35,
   "metadata": {},
   "outputs": [
    {
     "data": {
      "text/plain": [
       "array([[  32. ,  340. ],\n",
       "       [  12.4,   13.4],\n",
       "       [  14.3,   19.7],\n",
       "       [  12.2,   12.2],\n",
       "       [  33. ,  700. ],\n",
       "       [  36. ,  714. ],\n",
       "       [  35. ,  720. ],\n",
       "       [  35. ,  725. ],\n",
       "       [  38.5,  955. ],\n",
       "       [  33.5,  650. ],\n",
       "       [  31.5,  500. ],\n",
       "       [  29. ,  430. ],\n",
       "       [  41. ,  950. ],\n",
       "       [  30. ,  450. ],\n",
       "       [  29. ,  363. ],\n",
       "       [  29.7,  500. ],\n",
       "       [  11.3,    8.7],\n",
       "       [  11.8,   10. ],\n",
       "       [  13. ,   12.2],\n",
       "       [  32. ,  600. ],\n",
       "       [  30.7,  500. ],\n",
       "       [  33. ,  700. ],\n",
       "       [  35. ,  700. ],\n",
       "       [  41. ,  975. ],\n",
       "       [  38.5,  920. ],\n",
       "       [  25.4,  242. ],\n",
       "       [  12. ,    9.8],\n",
       "       [  39.5,  925. ],\n",
       "       [  29.7,  450. ],\n",
       "       [  37. , 1000. ],\n",
       "       [  31. ,  500. ],\n",
       "       [  10.5,    7.5],\n",
       "       [  26.3,  290. ],\n",
       "       [  34. ,  685. ],\n",
       "       [  26.5,  340. ]])"
      ]
     },
     "execution_count": 35,
     "metadata": {},
     "output_type": "execute_result"
    }
   ],
   "source": [
    "자료배열[index[:35]]\n",
    "# 이렇게 인덱스라는 배열을 슬라이싱한 배열을 자료배열의 슬라이싱 인덱스로 사용함."
   ]
  },
  {
   "cell_type": "code",
   "execution_count": 22,
   "metadata": {
    "colab": {},
    "colab_type": "code",
    "id": "o_MTsZW3eg96"
   },
   "outputs": [],
   "source": [
    "train_input = 자료배열[index[:35]]\n",
    "train_target = 종류배열[index[:35]]"
   ]
  },
  {
   "cell_type": "code",
   "execution_count": 23,
   "metadata": {
    "colab": {
     "base_uri": "https://localhost:8080/",
     "height": 35
    },
    "colab_type": "code",
    "executionInfo": {
     "elapsed": 2312,
     "status": "ok",
     "timestamp": 1586625404954,
     "user": {
      "displayName": "Haesun Park",
      "photoUrl": "https://lh3.googleusercontent.com/a-/AOh14GhsWlS7sKQL-9fIkg3FmxpTMz_u-KDSs8y__P1ngQ=s64",
      "userId": "14935388527648823821"
     },
     "user_tz": -540
    },
    "id": "hmO5KDSlBhtt",
    "outputId": "27340267-75f4-42a4-a4bb-431bf5a1a576"
   },
   "outputs": [
    {
     "name": "stdout",
     "output_type": "stream",
     "text": [
      "[ 32. 340.] [ 32. 340.]\n"
     ]
    }
   ],
   "source": [
    "print(자료배열[13], train_input[0])\n",
    "# 위의 과정을 통해 트레인인풋의 첫번째 요소와 자료배열의 14번째 요소가 같음을 확인 가능."
   ]
  },
  {
   "cell_type": "code",
   "execution_count": 24,
   "metadata": {
    "colab": {},
    "colab_type": "code",
    "id": "NUNTa8G9gqw2"
   },
   "outputs": [],
   "source": [
    "test_input = 자료배열[index[35:]]\n",
    "test_target = 종류배열[index[35:]]\n",
    "# 테스트셋도 마찬가지의 과정으로 만들어냄."
   ]
  },
  {
   "cell_type": "code",
   "execution_count": 25,
   "metadata": {
    "colab": {
     "base_uri": "https://localhost:8080/",
     "height": 279
    },
    "colab_type": "code",
    "executionInfo": {
     "elapsed": 2607,
     "status": "ok",
     "timestamp": 1586625405255,
     "user": {
      "displayName": "Haesun Park",
      "photoUrl": "https://lh3.googleusercontent.com/a-/AOh14GhsWlS7sKQL-9fIkg3FmxpTMz_u-KDSs8y__P1ngQ=s64",
      "userId": "14935388527648823821"
     },
     "user_tz": -540
    },
    "id": "gbnl1bpoiR0x",
    "outputId": "00e47097-f570-4594-92a4-7419ac31b7cf"
   },
   "outputs": [
    {
     "data": {
      "image/png": "[encoded data removed]",
      "text/plain": [
       "<Figure size 432x288 with 1 Axes>"
      ]
     },
     "metadata": {
      "needs_background": "light"
     },
     "output_type": "display_data"
    }
   ],
   "source": [
    "import matplotlib.pyplot as plt\n",
    "#맷플러리의 파이프롯을 plt로 임포트 했습니다.\n",
    "\n",
    "plt.scatter(train_input[:, 0], train_input[:, 1])\n",
    "# plt.scatter는 산점도를 그리는 애.\n",
    "# 들어가는 데이터는 x,y인데 train_input[:, 0]는 길이\n",
    "# train_input[:, 1])는 무게\n",
    "\n",
    "plt.scatter(test_input[:, 0], test_input[:, 1])\n",
    "\n",
    "plt.xlabel('length')\n",
    "plt.ylabel('weight')\n",
    "# 각 축에 이름을 붙여줌\n",
    "\n",
    "plt.show()\n",
    "# 보여줌"
   ]
  },
  {
   "cell_type": "markdown",
   "metadata": {},
   "source": [
    "## 두 번째 머신러닝 프로그램"
   ]
  },
  {
   "cell_type": "code",
   "execution_count": 28,
   "metadata": {
    "colab": {},
    "colab_type": "code",
    "id": "RpiXncTRfY7i"
   },
   "outputs": [],
   "source": [
    "모델 = 모델.fit(train_input, train_target)"
   ]
  },
  {
   "cell_type": "code",
   "execution_count": 29,
   "metadata": {
    "colab": {
     "base_uri": "https://localhost:8080/",
     "height": 35
    },
    "colab_type": "code",
    "executionInfo": {
     "elapsed": 2599,
     "status": "ok",
     "timestamp": 1586625405256,
     "user": {
      "displayName": "Haesun Park",
      "photoUrl": "https://lh3.googleusercontent.com/a-/AOh14GhsWlS7sKQL-9fIkg3FmxpTMz_u-KDSs8y__P1ngQ=s64",
      "userId": "14935388527648823821"
     },
     "user_tz": -540
    },
    "id": "Stdtp3RvhImd",
    "outputId": "01cf4261-93d8-4278-831e-0d4d37171b40"
   },
   "outputs": [
    {
     "data": {
      "text/plain": [
       "1.0"
      ]
     },
     "execution_count": 29,
     "metadata": {},
     "output_type": "execute_result"
    }
   ],
   "source": [
    "모델.score(test_input, test_target)"
   ]
  },
  {
   "cell_type": "code",
   "execution_count": 30,
   "metadata": {
    "colab": {
     "base_uri": "https://localhost:8080/",
     "height": 35
    },
    "colab_type": "code",
    "executionInfo": {
     "elapsed": 2596,
     "status": "ok",
     "timestamp": 1586625405257,
     "user": {
      "displayName": "Haesun Park",
      "photoUrl": "https://lh3.googleusercontent.com/a-/AOh14GhsWlS7sKQL-9fIkg3FmxpTMz_u-KDSs8y__P1ngQ=s64",
      "userId": "14935388527648823821"
     },
     "user_tz": -540
    },
    "id": "Od3gLmcJihAe",
    "outputId": "020ba575-1db0-4e91-c16f-6de664877ff1"
   },
   "outputs": [
    {
     "data": {
      "text/plain": [
       "array([0, 0, 1, 0, 1, 1, 1, 0, 1, 1, 0, 1, 1, 0])"
      ]
     },
     "execution_count": 30,
     "metadata": {},
     "output_type": "execute_result"
    }
   ],
   "source": [
    "모델.predict(test_input)\n",
    "# 섞어버린 테스트 셋에서\n",
    "# 물고기 자료들을 보고 모델이 예측한 값"
   ]
  },
  {
   "cell_type": "code",
   "execution_count": 31,
   "metadata": {
    "colab": {
     "base_uri": "https://localhost:8080/",
     "height": 35
    },
    "colab_type": "code",
    "executionInfo": {
     "elapsed": 2591,
     "status": "ok",
     "timestamp": 1586625405257,
     "user": {
      "displayName": "Haesun Park",
      "photoUrl": "https://lh3.googleusercontent.com/a-/AOh14GhsWlS7sKQL-9fIkg3FmxpTMz_u-KDSs8y__P1ngQ=s64",
      "userId": "14935388527648823821"
     },
     "user_tz": -540
    },
    "id": "Z-iCt9zHilaa",
    "outputId": "62fcc433-c690-44e9-c51c-7ef4a5cc1c94"
   },
   "outputs": [
    {
     "data": {
      "text/plain": [
       "array([0, 0, 1, 0, 1, 1, 1, 0, 1, 1, 0, 1, 1, 0])"
      ]
     },
     "execution_count": 31,
     "metadata": {},
     "output_type": "execute_result"
    }
   ],
   "source": [
    "test_target\n",
    "# 원래 붙어있던 라벨"
   ]
  }
 ],
 "metadata": {
  "colab": {
   "authorship_tag": "ABX9TyNOAwcRZJ4HbhKpaut6yZ38",
   "collapsed_sections": [],
   "name": "2-1. 훈련 데이터와 테스트 데이터",
   "provenance": []
  },
  "kernelspec": {
   "display_name": "TensorFlow 2.3 on Python 3.6 (CUDA 10.1)",
   "language": "python",
   "name": "python3"
  },
  "language_info": {
   "codemirror_mode": {
    "name": "ipython",
    "version": 3
   },
   "file_extension": ".py",
   "mimetype": "text/x-python",
   "name": "python",
   "nbconvert_exporter": "python",
   "pygments_lexer": "ipython3",
   "version": "3.9.7"
  }
 },
 "nbformat": 4,
 "nbformat_minor": 1
}
